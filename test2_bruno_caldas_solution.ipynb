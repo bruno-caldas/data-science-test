{
 "cells": [
  {
   "cell_type": "markdown",
   "metadata": {},
   "source": [
    "# Data Science Test 2 - Fleury\n",
    "## Bruno Caldas\n",
    "## 1. Importação das bibliotecas necessárias"
   ]
  },
  {
   "cell_type": "code",
   "execution_count": 1,
   "metadata": {},
   "outputs": [],
   "source": [
    "# Bibliotecas básicas de manipulação de dados\n",
    "import pandas as pd\n",
    "import numpy as np\n",
    "\n",
    "# Biblioteca de machine learning\n",
    "from sklearn.model_selection import train_test_split\n",
    "from sklearn.neighbors import KNeighborsClassifier\n",
    "from sklearn.linear_model import LogisticRegression\n",
    "from sklearn import metrics\n",
    "from pyod.models.knn import KNN\n",
    "from sklearn.linear_model import LassoCV\n",
    "\n",
    "# Biblioteca de Visualização\n",
    "import matplotlib.pyplot as plt\n",
    "\n",
    "# Limpar warning de dados ruins\n",
    "import warnings; warnings.filterwarnings('ignore')\n",
    "# Mostrar todas colunas\n",
    "pd.set_option('display.max_columns', None)"
   ]
  },
  {
   "cell_type": "markdown",
   "metadata": {},
   "source": [
    "## 2. Leitura dos dados e análise de possíveis limpezas da base"
   ]
  },
  {
   "cell_type": "code",
   "execution_count": 2,
   "metadata": {},
   "outputs": [
    {
     "data": {
      "text/html": [
       "<div>\n",
       "<style scoped>\n",
       "    .dataframe tbody tr th:only-of-type {\n",
       "        vertical-align: middle;\n",
       "    }\n",
       "\n",
       "    .dataframe tbody tr th {\n",
       "        vertical-align: top;\n",
       "    }\n",
       "\n",
       "    .dataframe thead th {\n",
       "        text-align: right;\n",
       "    }\n",
       "</style>\n",
       "<table border=\"1\" class=\"dataframe\">\n",
       "  <thead>\n",
       "    <tr style=\"text-align: right;\">\n",
       "      <th></th>\n",
       "      <th>Dia semana agendamento</th>\n",
       "      <th>Ano agendamento</th>\n",
       "      <th>Mes agendamento</th>\n",
       "      <th>Hora agendamento</th>\n",
       "      <th>Dia mes agendamento</th>\n",
       "      <th>Dia semana atendimento</th>\n",
       "      <th>Ano atendimento</th>\n",
       "      <th>Mes atendimento</th>\n",
       "      <th>Hora atendimento</th>\n",
       "      <th>Dia mes atendimento</th>\n",
       "      <th>Secao</th>\n",
       "      <th>Medico preferencial</th>\n",
       "      <th>Renda Provavel</th>\n",
       "      <th>MicroArea</th>\n",
       "      <th>Diretoria</th>\n",
       "      <th>Cod convenio</th>\n",
       "      <th>Codigo exame</th>\n",
       "      <th>Idade</th>\n",
       "      <th>Tempo medio de agendamento</th>\n",
       "      <th>Unidade</th>\n",
       "      <th>Bairro</th>\n",
       "      <th>Feminino</th>\n",
       "      <th>No Show</th>\n",
       "      <th>Unnamed: 23</th>\n",
       "      <th>Legenda</th>\n",
       "    </tr>\n",
       "  </thead>\n",
       "  <tbody>\n",
       "    <tr>\n",
       "      <th>0</th>\n",
       "      <td>6</td>\n",
       "      <td>2019</td>\n",
       "      <td>8</td>\n",
       "      <td>8</td>\n",
       "      <td>18</td>\n",
       "      <td>3</td>\n",
       "      <td>2019</td>\n",
       "      <td>8</td>\n",
       "      <td>15</td>\n",
       "      <td>15</td>\n",
       "      <td>110</td>\n",
       "      <td>0</td>\n",
       "      <td>1028823</td>\n",
       "      <td>377</td>\n",
       "      <td>7</td>\n",
       "      <td>115</td>\n",
       "      <td>465530</td>\n",
       "      <td>39</td>\n",
       "      <td>2</td>\n",
       "      <td>VILLA LOBOS</td>\n",
       "      <td>4218</td>\n",
       "      <td>1</td>\n",
       "      <td>0</td>\n",
       "      <td>NaN</td>\n",
       "      <td>Show = 0</td>\n",
       "    </tr>\n",
       "    <tr>\n",
       "      <th>1</th>\n",
       "      <td>2</td>\n",
       "      <td>2019</td>\n",
       "      <td>11</td>\n",
       "      <td>7</td>\n",
       "      <td>6</td>\n",
       "      <td>0</td>\n",
       "      <td>2019</td>\n",
       "      <td>11</td>\n",
       "      <td>13</td>\n",
       "      <td>4</td>\n",
       "      <td>110</td>\n",
       "      <td>0</td>\n",
       "      <td>1028823</td>\n",
       "      <td>377</td>\n",
       "      <td>7</td>\n",
       "      <td>115</td>\n",
       "      <td>465530</td>\n",
       "      <td>39</td>\n",
       "      <td>1</td>\n",
       "      <td>VILLA LOBOS</td>\n",
       "      <td>4218</td>\n",
       "      <td>1</td>\n",
       "      <td>1</td>\n",
       "      <td>NaN</td>\n",
       "      <td>No Show = 1</td>\n",
       "    </tr>\n",
       "    <tr>\n",
       "      <th>2</th>\n",
       "      <td>5</td>\n",
       "      <td>2019</td>\n",
       "      <td>8</td>\n",
       "      <td>8</td>\n",
       "      <td>31</td>\n",
       "      <td>3</td>\n",
       "      <td>2019</td>\n",
       "      <td>8</td>\n",
       "      <td>15</td>\n",
       "      <td>15</td>\n",
       "      <td>36</td>\n",
       "      <td>0</td>\n",
       "      <td>1028823</td>\n",
       "      <td>377</td>\n",
       "      <td>7</td>\n",
       "      <td>115</td>\n",
       "      <td>465530</td>\n",
       "      <td>39</td>\n",
       "      <td>15</td>\n",
       "      <td>ITAIM</td>\n",
       "      <td>4218</td>\n",
       "      <td>1</td>\n",
       "      <td>0</td>\n",
       "      <td>NaN</td>\n",
       "      <td>NaN</td>\n",
       "    </tr>\n",
       "    <tr>\n",
       "      <th>3</th>\n",
       "      <td>4</td>\n",
       "      <td>2019</td>\n",
       "      <td>9</td>\n",
       "      <td>11</td>\n",
       "      <td>27</td>\n",
       "      <td>4</td>\n",
       "      <td>2019</td>\n",
       "      <td>9</td>\n",
       "      <td>8</td>\n",
       "      <td>27</td>\n",
       "      <td>110</td>\n",
       "      <td>1</td>\n",
       "      <td>489594</td>\n",
       "      <td>767</td>\n",
       "      <td>7</td>\n",
       "      <td>115</td>\n",
       "      <td>465530</td>\n",
       "      <td>49</td>\n",
       "      <td>0</td>\n",
       "      <td>HIGIENÓPOLIS</td>\n",
       "      <td>2169</td>\n",
       "      <td>1</td>\n",
       "      <td>0</td>\n",
       "      <td>NaN</td>\n",
       "      <td>NaN</td>\n",
       "    </tr>\n",
       "    <tr>\n",
       "      <th>4</th>\n",
       "      <td>4</td>\n",
       "      <td>2019</td>\n",
       "      <td>10</td>\n",
       "      <td>11</td>\n",
       "      <td>11</td>\n",
       "      <td>1</td>\n",
       "      <td>2019</td>\n",
       "      <td>10</td>\n",
       "      <td>17</td>\n",
       "      <td>1</td>\n",
       "      <td>110</td>\n",
       "      <td>0</td>\n",
       "      <td>31829</td>\n",
       "      <td>568</td>\n",
       "      <td>7</td>\n",
       "      <td>115</td>\n",
       "      <td>7244510</td>\n",
       "      <td>33</td>\n",
       "      <td>9</td>\n",
       "      <td>ALPHAVILLE</td>\n",
       "      <td>9638</td>\n",
       "      <td>1</td>\n",
       "      <td>0</td>\n",
       "      <td>NaN</td>\n",
       "      <td>NaN</td>\n",
       "    </tr>\n",
       "    <tr>\n",
       "      <th>...</th>\n",
       "      <td>...</td>\n",
       "      <td>...</td>\n",
       "      <td>...</td>\n",
       "      <td>...</td>\n",
       "      <td>...</td>\n",
       "      <td>...</td>\n",
       "      <td>...</td>\n",
       "      <td>...</td>\n",
       "      <td>...</td>\n",
       "      <td>...</td>\n",
       "      <td>...</td>\n",
       "      <td>...</td>\n",
       "      <td>...</td>\n",
       "      <td>...</td>\n",
       "      <td>...</td>\n",
       "      <td>...</td>\n",
       "      <td>...</td>\n",
       "      <td>...</td>\n",
       "      <td>...</td>\n",
       "      <td>...</td>\n",
       "      <td>...</td>\n",
       "      <td>...</td>\n",
       "      <td>...</td>\n",
       "      <td>...</td>\n",
       "      <td>...</td>\n",
       "    </tr>\n",
       "    <tr>\n",
       "      <th>299611</th>\n",
       "      <td>3</td>\n",
       "      <td>2019</td>\n",
       "      <td>10</td>\n",
       "      <td>10</td>\n",
       "      <td>31</td>\n",
       "      <td>0</td>\n",
       "      <td>2019</td>\n",
       "      <td>9</td>\n",
       "      <td>17</td>\n",
       "      <td>30</td>\n",
       "      <td>114</td>\n",
       "      <td>0</td>\n",
       "      <td>466019</td>\n",
       "      <td>541</td>\n",
       "      <td>7</td>\n",
       "      <td>27155</td>\n",
       "      <td>6379880</td>\n",
       "      <td>32</td>\n",
       "      <td>30</td>\n",
       "      <td>R LÍBANO I</td>\n",
       "      <td>8014</td>\n",
       "      <td>0</td>\n",
       "      <td>0</td>\n",
       "      <td>NaN</td>\n",
       "      <td>NaN</td>\n",
       "    </tr>\n",
       "    <tr>\n",
       "      <th>299612</th>\n",
       "      <td>2</td>\n",
       "      <td>2019</td>\n",
       "      <td>10</td>\n",
       "      <td>10</td>\n",
       "      <td>16</td>\n",
       "      <td>0</td>\n",
       "      <td>2019</td>\n",
       "      <td>9</td>\n",
       "      <td>16</td>\n",
       "      <td>30</td>\n",
       "      <td>98</td>\n",
       "      <td>0</td>\n",
       "      <td>596056</td>\n",
       "      <td>194</td>\n",
       "      <td>7</td>\n",
       "      <td>330</td>\n",
       "      <td>483860</td>\n",
       "      <td>13</td>\n",
       "      <td>15</td>\n",
       "      <td>ANÁLIA FRANCO II</td>\n",
       "      <td>1519</td>\n",
       "      <td>1</td>\n",
       "      <td>1</td>\n",
       "      <td>NaN</td>\n",
       "      <td>NaN</td>\n",
       "    </tr>\n",
       "    <tr>\n",
       "      <th>299613</th>\n",
       "      <td>6</td>\n",
       "      <td>2019</td>\n",
       "      <td>11</td>\n",
       "      <td>9</td>\n",
       "      <td>3</td>\n",
       "      <td>5</td>\n",
       "      <td>2019</td>\n",
       "      <td>10</td>\n",
       "      <td>8</td>\n",
       "      <td>26</td>\n",
       "      <td>98</td>\n",
       "      <td>0</td>\n",
       "      <td>596056</td>\n",
       "      <td>194</td>\n",
       "      <td>7</td>\n",
       "      <td>330</td>\n",
       "      <td>483860</td>\n",
       "      <td>13</td>\n",
       "      <td>8</td>\n",
       "      <td>PARAÍSO</td>\n",
       "      <td>1519</td>\n",
       "      <td>1</td>\n",
       "      <td>0</td>\n",
       "      <td>NaN</td>\n",
       "      <td>NaN</td>\n",
       "    </tr>\n",
       "    <tr>\n",
       "      <th>299614</th>\n",
       "      <td>6</td>\n",
       "      <td>2019</td>\n",
       "      <td>11</td>\n",
       "      <td>13</td>\n",
       "      <td>3</td>\n",
       "      <td>6</td>\n",
       "      <td>2019</td>\n",
       "      <td>11</td>\n",
       "      <td>10</td>\n",
       "      <td>3</td>\n",
       "      <td>98</td>\n",
       "      <td>0</td>\n",
       "      <td>596056</td>\n",
       "      <td>194</td>\n",
       "      <td>7</td>\n",
       "      <td>330</td>\n",
       "      <td>483860</td>\n",
       "      <td>13</td>\n",
       "      <td>0</td>\n",
       "      <td>PARAÍSO</td>\n",
       "      <td>1519</td>\n",
       "      <td>1</td>\n",
       "      <td>0</td>\n",
       "      <td>NaN</td>\n",
       "      <td>NaN</td>\n",
       "    </tr>\n",
       "    <tr>\n",
       "      <th>299615</th>\n",
       "      <td>6</td>\n",
       "      <td>2019</td>\n",
       "      <td>11</td>\n",
       "      <td>13</td>\n",
       "      <td>3</td>\n",
       "      <td>6</td>\n",
       "      <td>2019</td>\n",
       "      <td>11</td>\n",
       "      <td>10</td>\n",
       "      <td>3</td>\n",
       "      <td>98</td>\n",
       "      <td>0</td>\n",
       "      <td>596056</td>\n",
       "      <td>194</td>\n",
       "      <td>7</td>\n",
       "      <td>330</td>\n",
       "      <td>483860</td>\n",
       "      <td>13</td>\n",
       "      <td>0</td>\n",
       "      <td>PARAÍSO</td>\n",
       "      <td>1519</td>\n",
       "      <td>1</td>\n",
       "      <td>0</td>\n",
       "      <td>NaN</td>\n",
       "      <td>NaN</td>\n",
       "    </tr>\n",
       "  </tbody>\n",
       "</table>\n",
       "<p>299616 rows × 25 columns</p>\n",
       "</div>"
      ],
      "text/plain": [
       "        Dia semana agendamento  Ano agendamento  Mes agendamento  \\\n",
       "0                            6             2019                8   \n",
       "1                            2             2019               11   \n",
       "2                            5             2019                8   \n",
       "3                            4             2019                9   \n",
       "4                            4             2019               10   \n",
       "...                        ...              ...              ...   \n",
       "299611                       3             2019               10   \n",
       "299612                       2             2019               10   \n",
       "299613                       6             2019               11   \n",
       "299614                       6             2019               11   \n",
       "299615                       6             2019               11   \n",
       "\n",
       "        Hora agendamento  Dia mes agendamento  Dia semana atendimento  \\\n",
       "0                      8                   18                       3   \n",
       "1                      7                    6                       0   \n",
       "2                      8                   31                       3   \n",
       "3                     11                   27                       4   \n",
       "4                     11                   11                       1   \n",
       "...                  ...                  ...                     ...   \n",
       "299611                10                   31                       0   \n",
       "299612                10                   16                       0   \n",
       "299613                 9                    3                       5   \n",
       "299614                13                    3                       6   \n",
       "299615                13                    3                       6   \n",
       "\n",
       "        Ano atendimento  Mes atendimento  Hora atendimento  \\\n",
       "0                  2019                8                15   \n",
       "1                  2019               11                13   \n",
       "2                  2019                8                15   \n",
       "3                  2019                9                 8   \n",
       "4                  2019               10                17   \n",
       "...                 ...              ...               ...   \n",
       "299611             2019                9                17   \n",
       "299612             2019                9                16   \n",
       "299613             2019               10                 8   \n",
       "299614             2019               11                10   \n",
       "299615             2019               11                10   \n",
       "\n",
       "        Dia mes atendimento  Secao  Medico preferencial  Renda Provavel  \\\n",
       "0                        15    110                    0         1028823   \n",
       "1                         4    110                    0         1028823   \n",
       "2                        15     36                    0         1028823   \n",
       "3                        27    110                    1          489594   \n",
       "4                         1    110                    0           31829   \n",
       "...                     ...    ...                  ...             ...   \n",
       "299611                   30    114                    0          466019   \n",
       "299612                   30     98                    0          596056   \n",
       "299613                   26     98                    0          596056   \n",
       "299614                    3     98                    0          596056   \n",
       "299615                    3     98                    0          596056   \n",
       "\n",
       "        MicroArea  Diretoria  Cod convenio  Codigo exame  Idade  \\\n",
       "0             377          7           115        465530     39   \n",
       "1             377          7           115        465530     39   \n",
       "2             377          7           115        465530     39   \n",
       "3             767          7           115        465530     49   \n",
       "4             568          7           115       7244510     33   \n",
       "...           ...        ...           ...           ...    ...   \n",
       "299611        541          7         27155       6379880     32   \n",
       "299612        194          7           330        483860     13   \n",
       "299613        194          7           330        483860     13   \n",
       "299614        194          7           330        483860     13   \n",
       "299615        194          7           330        483860     13   \n",
       "\n",
       "        Tempo medio de agendamento           Unidade  Bairro  Feminino  \\\n",
       "0                                2       VILLA LOBOS    4218         1   \n",
       "1                                1       VILLA LOBOS    4218         1   \n",
       "2                               15             ITAIM    4218         1   \n",
       "3                                0      HIGIENÓPOLIS    2169         1   \n",
       "4                                9        ALPHAVILLE    9638         1   \n",
       "...                            ...               ...     ...       ...   \n",
       "299611                          30        R LÍBANO I    8014         0   \n",
       "299612                          15  ANÁLIA FRANCO II    1519         1   \n",
       "299613                           8           PARAÍSO    1519         1   \n",
       "299614                           0           PARAÍSO    1519         1   \n",
       "299615                           0           PARAÍSO    1519         1   \n",
       "\n",
       "        No Show  Unnamed: 23      Legenda  \n",
       "0             0          NaN     Show = 0  \n",
       "1             1          NaN  No Show = 1  \n",
       "2             0          NaN          NaN  \n",
       "3             0          NaN          NaN  \n",
       "4             0          NaN          NaN  \n",
       "...         ...          ...          ...  \n",
       "299611        0          NaN          NaN  \n",
       "299612        1          NaN          NaN  \n",
       "299613        0          NaN          NaN  \n",
       "299614        0          NaN          NaN  \n",
       "299615        0          NaN          NaN  \n",
       "\n",
       "[299616 rows x 25 columns]"
      ]
     },
     "execution_count": 2,
     "metadata": {},
     "output_type": "execute_result"
    }
   ],
   "source": [
    "data = pd.read_csv('test2_original/data/dados.csv', sep=';')\n",
    "data"
   ]
  },
  {
   "cell_type": "markdown",
   "metadata": {},
   "source": [
    "Como pode ser visto na tabela anterior, há duas colunas no final da tabela que não possuem informação. Vamos analisar o conteúdo delas e a possibilidade de sua eliminação"
   ]
  },
  {
   "cell_type": "code",
   "execution_count": 3,
   "metadata": {},
   "outputs": [
    {
     "name": "stdout",
     "output_type": "stream",
     "text": [
      "O valor de nulos da penultima coluna é 299616\n",
      "O valor de nulos da última coluna é 299614\n",
      "O tamanho total das linhas é 299616\n"
     ]
    }
   ],
   "source": [
    "nullvalues = data[data.columns[-2:]].isnull().sum(axis = 0)\n",
    "length = len(data[data.columns[-2:]])\n",
    "print('O valor de nulos da penultima coluna é {}'.format(nullvalues[0]))\n",
    "print('O valor de nulos da última coluna é {}'.format(nullvalues[1]))\n",
    "print('O tamanho total das linhas é {}'.format(length))"
   ]
  },
  {
   "cell_type": "markdown",
   "metadata": {},
   "source": [
    "Pela análise anterior, pode-se concluir que pode-se eliminar as duas últimas colunas:"
   ]
  },
  {
   "cell_type": "code",
   "execution_count": 4,
   "metadata": {},
   "outputs": [],
   "source": [
    "data = data[data.columns[:-2]]"
   ]
  },
  {
   "cell_type": "markdown",
   "metadata": {},
   "source": [
    "Outra possibilidade vista na base que deve se verificar é a coluna relacionada a ano que não parece se alterar."
   ]
  },
  {
   "cell_type": "code",
   "execution_count": 5,
   "metadata": {},
   "outputs": [
    {
     "data": {
      "text/html": [
       "<div>\n",
       "<style scoped>\n",
       "    .dataframe tbody tr th:only-of-type {\n",
       "        vertical-align: middle;\n",
       "    }\n",
       "\n",
       "    .dataframe tbody tr th {\n",
       "        vertical-align: top;\n",
       "    }\n",
       "\n",
       "    .dataframe thead th {\n",
       "        text-align: right;\n",
       "    }\n",
       "</style>\n",
       "<table border=\"1\" class=\"dataframe\">\n",
       "  <thead>\n",
       "    <tr style=\"text-align: right;\">\n",
       "      <th></th>\n",
       "      <th>Dia semana agendamento</th>\n",
       "      <th>Mes agendamento</th>\n",
       "      <th>Hora agendamento</th>\n",
       "      <th>Dia mes agendamento</th>\n",
       "      <th>Dia semana atendimento</th>\n",
       "      <th>Ano atendimento</th>\n",
       "      <th>Mes atendimento</th>\n",
       "      <th>Hora atendimento</th>\n",
       "      <th>Dia mes atendimento</th>\n",
       "      <th>Secao</th>\n",
       "      <th>Medico preferencial</th>\n",
       "      <th>Renda Provavel</th>\n",
       "      <th>MicroArea</th>\n",
       "      <th>Diretoria</th>\n",
       "      <th>Cod convenio</th>\n",
       "      <th>Codigo exame</th>\n",
       "      <th>Idade</th>\n",
       "      <th>Tempo medio de agendamento</th>\n",
       "      <th>Unidade</th>\n",
       "      <th>Bairro</th>\n",
       "      <th>Feminino</th>\n",
       "      <th>No Show</th>\n",
       "    </tr>\n",
       "    <tr>\n",
       "      <th>Ano agendamento</th>\n",
       "      <th></th>\n",
       "      <th></th>\n",
       "      <th></th>\n",
       "      <th></th>\n",
       "      <th></th>\n",
       "      <th></th>\n",
       "      <th></th>\n",
       "      <th></th>\n",
       "      <th></th>\n",
       "      <th></th>\n",
       "      <th></th>\n",
       "      <th></th>\n",
       "      <th></th>\n",
       "      <th></th>\n",
       "      <th></th>\n",
       "      <th></th>\n",
       "      <th></th>\n",
       "      <th></th>\n",
       "      <th></th>\n",
       "      <th></th>\n",
       "      <th></th>\n",
       "      <th></th>\n",
       "    </tr>\n",
       "  </thead>\n",
       "  <tbody>\n",
       "    <tr>\n",
       "      <th>2019</th>\n",
       "      <td>299616</td>\n",
       "      <td>299616</td>\n",
       "      <td>299616</td>\n",
       "      <td>299616</td>\n",
       "      <td>299616</td>\n",
       "      <td>299616</td>\n",
       "      <td>299616</td>\n",
       "      <td>299616</td>\n",
       "      <td>299616</td>\n",
       "      <td>299616</td>\n",
       "      <td>299616</td>\n",
       "      <td>299616</td>\n",
       "      <td>299616</td>\n",
       "      <td>299616</td>\n",
       "      <td>299616</td>\n",
       "      <td>299616</td>\n",
       "      <td>299616</td>\n",
       "      <td>299616</td>\n",
       "      <td>299616</td>\n",
       "      <td>299616</td>\n",
       "      <td>299616</td>\n",
       "      <td>299616</td>\n",
       "    </tr>\n",
       "  </tbody>\n",
       "</table>\n",
       "</div>"
      ],
      "text/plain": [
       "                 Dia semana agendamento  Mes agendamento  Hora agendamento  \\\n",
       "Ano agendamento                                                              \n",
       "2019                             299616           299616            299616   \n",
       "\n",
       "                 Dia mes agendamento  Dia semana atendimento  Ano atendimento  \\\n",
       "Ano agendamento                                                                 \n",
       "2019                          299616                  299616           299616   \n",
       "\n",
       "                 Mes atendimento  Hora atendimento  Dia mes atendimento  \\\n",
       "Ano agendamento                                                           \n",
       "2019                      299616            299616               299616   \n",
       "\n",
       "                  Secao  Medico preferencial  Renda Provavel  MicroArea  \\\n",
       "Ano agendamento                                                           \n",
       "2019             299616               299616          299616     299616   \n",
       "\n",
       "                 Diretoria  Cod convenio  Codigo exame   Idade  \\\n",
       "Ano agendamento                                                  \n",
       "2019                299616        299616        299616  299616   \n",
       "\n",
       "                 Tempo medio de agendamento  Unidade  Bairro  Feminino  \\\n",
       "Ano agendamento                                                          \n",
       "2019                                 299616   299616  299616    299616   \n",
       "\n",
       "                 No Show  \n",
       "Ano agendamento           \n",
       "2019              299616  "
      ]
     },
     "execution_count": 5,
     "metadata": {},
     "output_type": "execute_result"
    }
   ],
   "source": [
    "data.groupby('Ano agendamento').count()"
   ]
  },
  {
   "cell_type": "code",
   "execution_count": 6,
   "metadata": {},
   "outputs": [
    {
     "data": {
      "text/html": [
       "<div>\n",
       "<style scoped>\n",
       "    .dataframe tbody tr th:only-of-type {\n",
       "        vertical-align: middle;\n",
       "    }\n",
       "\n",
       "    .dataframe tbody tr th {\n",
       "        vertical-align: top;\n",
       "    }\n",
       "\n",
       "    .dataframe thead th {\n",
       "        text-align: right;\n",
       "    }\n",
       "</style>\n",
       "<table border=\"1\" class=\"dataframe\">\n",
       "  <thead>\n",
       "    <tr style=\"text-align: right;\">\n",
       "      <th></th>\n",
       "      <th>Dia semana agendamento</th>\n",
       "      <th>Ano agendamento</th>\n",
       "      <th>Mes agendamento</th>\n",
       "      <th>Hora agendamento</th>\n",
       "      <th>Dia mes agendamento</th>\n",
       "      <th>Dia semana atendimento</th>\n",
       "      <th>Mes atendimento</th>\n",
       "      <th>Hora atendimento</th>\n",
       "      <th>Dia mes atendimento</th>\n",
       "      <th>Secao</th>\n",
       "      <th>Medico preferencial</th>\n",
       "      <th>Renda Provavel</th>\n",
       "      <th>MicroArea</th>\n",
       "      <th>Diretoria</th>\n",
       "      <th>Cod convenio</th>\n",
       "      <th>Codigo exame</th>\n",
       "      <th>Idade</th>\n",
       "      <th>Tempo medio de agendamento</th>\n",
       "      <th>Unidade</th>\n",
       "      <th>Bairro</th>\n",
       "      <th>Feminino</th>\n",
       "      <th>No Show</th>\n",
       "    </tr>\n",
       "    <tr>\n",
       "      <th>Ano atendimento</th>\n",
       "      <th></th>\n",
       "      <th></th>\n",
       "      <th></th>\n",
       "      <th></th>\n",
       "      <th></th>\n",
       "      <th></th>\n",
       "      <th></th>\n",
       "      <th></th>\n",
       "      <th></th>\n",
       "      <th></th>\n",
       "      <th></th>\n",
       "      <th></th>\n",
       "      <th></th>\n",
       "      <th></th>\n",
       "      <th></th>\n",
       "      <th></th>\n",
       "      <th></th>\n",
       "      <th></th>\n",
       "      <th></th>\n",
       "      <th></th>\n",
       "      <th></th>\n",
       "      <th></th>\n",
       "    </tr>\n",
       "  </thead>\n",
       "  <tbody>\n",
       "    <tr>\n",
       "      <th>2019</th>\n",
       "      <td>299616</td>\n",
       "      <td>299616</td>\n",
       "      <td>299616</td>\n",
       "      <td>299616</td>\n",
       "      <td>299616</td>\n",
       "      <td>299616</td>\n",
       "      <td>299616</td>\n",
       "      <td>299616</td>\n",
       "      <td>299616</td>\n",
       "      <td>299616</td>\n",
       "      <td>299616</td>\n",
       "      <td>299616</td>\n",
       "      <td>299616</td>\n",
       "      <td>299616</td>\n",
       "      <td>299616</td>\n",
       "      <td>299616</td>\n",
       "      <td>299616</td>\n",
       "      <td>299616</td>\n",
       "      <td>299616</td>\n",
       "      <td>299616</td>\n",
       "      <td>299616</td>\n",
       "      <td>299616</td>\n",
       "    </tr>\n",
       "  </tbody>\n",
       "</table>\n",
       "</div>"
      ],
      "text/plain": [
       "                 Dia semana agendamento  Ano agendamento  Mes agendamento  \\\n",
       "Ano atendimento                                                             \n",
       "2019                             299616           299616           299616   \n",
       "\n",
       "                 Hora agendamento  Dia mes agendamento  \\\n",
       "Ano atendimento                                          \n",
       "2019                       299616               299616   \n",
       "\n",
       "                 Dia semana atendimento  Mes atendimento  Hora atendimento  \\\n",
       "Ano atendimento                                                              \n",
       "2019                             299616           299616            299616   \n",
       "\n",
       "                 Dia mes atendimento   Secao  Medico preferencial  \\\n",
       "Ano atendimento                                                     \n",
       "2019                          299616  299616               299616   \n",
       "\n",
       "                 Renda Provavel  MicroArea  Diretoria  Cod convenio  \\\n",
       "Ano atendimento                                                       \n",
       "2019                     299616     299616     299616        299616   \n",
       "\n",
       "                 Codigo exame   Idade  Tempo medio de agendamento  Unidade  \\\n",
       "Ano atendimento                                                              \n",
       "2019                   299616  299616                      299616   299616   \n",
       "\n",
       "                 Bairro  Feminino  No Show  \n",
       "Ano atendimento                             \n",
       "2019             299616    299616   299616  "
      ]
     },
     "execution_count": 6,
     "metadata": {},
     "output_type": "execute_result"
    }
   ],
   "source": [
    "data.groupby('Ano atendimento').count()"
   ]
  },
  {
   "cell_type": "markdown",
   "metadata": {},
   "source": [
    "Desta forma podemos eliminar a coluna \"ano\" tanto no agendamento quanto para o atendimento, pois não acrescentam em nada a análise"
   ]
  },
  {
   "cell_type": "code",
   "execution_count": 7,
   "metadata": {},
   "outputs": [],
   "source": [
    "data.drop('Ano agendamento', 1, inplace=True)\n",
    "data.drop('Ano atendimento', 1, inplace=True)"
   ]
  },
  {
   "cell_type": "markdown",
   "metadata": {},
   "source": [
    "Neste momento, é criado um dicionário para tratar Unidades como número e não mais como texto para se trabalhar nos algoritmos seguintes."
   ]
  },
  {
   "cell_type": "code",
   "execution_count": 8,
   "metadata": {},
   "outputs": [],
   "source": [
    "unidades = {}\n",
    "temp_id = 0\n",
    "for unit in data.Unidade.unique():\n",
    "    unidades[unit] = temp_id\n",
    "    temp_id += 1\n",
    "data.replace({\"Unidade\": unidades}, inplace=True)"
   ]
  },
  {
   "cell_type": "markdown",
   "metadata": {},
   "source": [
    "A fim de eliminar \"outliers\" que podem trazer prejuízos ao modelo preditivo, percebe-se que há registros não compatíveis no atributo idade."
   ]
  },
  {
   "cell_type": "code",
   "execution_count": 9,
   "metadata": {},
   "outputs": [
    {
     "data": {
      "image/png": "[encoded data removed]",
      "text/plain": [
       "<Figure size 432x288 with 1 Axes>"
      ]
     },
     "metadata": {
      "needs_background": "light"
     },
     "output_type": "display_data"
    }
   ],
   "source": [
    "plt.boxplot(data['Idade'], showfliers=True)\n",
    "plt.title('Detectando outliers no atributo Idade')\n",
    "plt.ylabel('Idade')\n",
    "plt.show()"
   ]
  },
  {
   "cell_type": "markdown",
   "metadata": {},
   "source": [
    "Visualmente no gráfico anterior, pode-se perceber idades próximas a mil o que é irreal. Desta forma, será trabalhado os dados com idade superior a 200."
   ]
  },
  {
   "cell_type": "code",
   "execution_count": 10,
   "metadata": {},
   "outputs": [],
   "source": [
    "outliers_idade = data[(data.Idade>200)]"
   ]
  },
  {
   "cell_type": "code",
   "execution_count": 11,
   "metadata": {},
   "outputs": [
    {
     "name": "stdout",
     "output_type": "stream",
     "text": [
      "Existem 37 entradas com idade incompatíveis\n"
     ]
    }
   ],
   "source": [
    "print(\"Existem {} entradas com idade incompatíveis\".format(outliers_idade.shape[0]))"
   ]
  },
  {
   "cell_type": "markdown",
   "metadata": {},
   "source": [
    "Como são poucos registros com problemas de idade e para não perder os dados acima somente pelo erro de idade, vamos substituir estes valores pela média."
   ]
  },
  {
   "cell_type": "code",
   "execution_count": 12,
   "metadata": {},
   "outputs": [],
   "source": [
    "avg_age = data[(data.Idade<200)].mean()['Idade']\n",
    "data.loc[data['Idade'] > 200, 'Idade'] = avg_age"
   ]
  },
  {
   "cell_type": "markdown",
   "metadata": {},
   "source": [
    "## 3. Separação das bases de treino e teste\n",
    "Segue a separação da base do que se quer prever (\"no show\") do restante dos atributos, além de separar 20% da base para verificação do algoritmo de predição (teste)."
   ]
  },
  {
   "cell_type": "code",
   "execution_count": 13,
   "metadata": {},
   "outputs": [],
   "source": [
    "x_columns = data.columns.to_list()\n",
    "x_columns.remove('No Show')\n",
    "\n",
    "data_y = data['No Show']\n",
    "\n",
    "x_columns = data.columns.to_list()\n",
    "x_columns.remove('No Show')\n",
    "data_x = data[x_columns]\n",
    "\n",
    "x_train, x_test, y_train, y_test = train_test_split(data_x, data_y,\n",
    "                                                    test_size=0.2, random_state=1)\n",
    "\n",
    "x_train.reset_index(drop=True, inplace=True)\n",
    "y_train.reset_index(drop=True, inplace=True)"
   ]
  },
  {
   "cell_type": "markdown",
   "metadata": {},
   "source": [
    "## 4. Limpeza de \"outliers\" gerais\n",
    "Por último, é feita uma última limpeza dos dados analisando sua distância euclidiana do restante da base.\n",
    "Isso será feito apenas na base de treino para não enviesar o desempenho do algoritmo"
   ]
  },
  {
   "cell_type": "code",
   "execution_count": 14,
   "metadata": {},
   "outputs": [
    {
     "name": "stdout",
     "output_type": "stream",
     "text": [
      "A quantidade de outliers detectada e retirada foi de: 23969\n"
     ]
    }
   ],
   "source": [
    "detector_outliers = KNN()\n",
    "detector_outliers.fit(x_train)\n",
    "\n",
    "x_train['outliers'] = pd.DataFrame(detector_outliers.labels_)\n",
    "\n",
    "y_train = y_train.to_frame()[x_train['outliers']==0]['No Show']\n",
    "x_train = x_train[x_train['outliers']==0].drop('outliers', 1)\n",
    "\n",
    "print(\"A quantidade de outliers detectada e retirada foi de: {}\"\n",
    "      .format(sum(detector_outliers.labels_)))"
   ]
  },
  {
   "cell_type": "markdown",
   "metadata": {},
   "source": [
    "## 5. Modelo de Regressão Logística\n",
    "Como a idéia é prever valores binários, o primeiro algoritmo a ser testado é o de regressão logística."
   ]
  },
  {
   "cell_type": "code",
   "execution_count": 15,
   "metadata": {},
   "outputs": [
    {
     "data": {
      "text/plain": [
       "LogisticRegression()"
      ]
     },
     "execution_count": 15,
     "metadata": {},
     "output_type": "execute_result"
    }
   ],
   "source": [
    "logreg = LogisticRegression()\n",
    "logreg.fit(x_train, y_train)"
   ]
  },
  {
   "cell_type": "code",
   "execution_count": 16,
   "metadata": {},
   "outputs": [
    {
     "name": "stdout",
     "output_type": "stream",
     "text": [
      "A precisão do modelo de regressão logística é 0.8821006608370603\n"
     ]
    }
   ],
   "source": [
    "predictions = logreg.predict(x_test)\n",
    "accuracy = metrics.accuracy_score(y_test, predictions)\n",
    "print(\"A precisão do modelo de regressão logística é {}\".format(accuracy))"
   ]
  },
  {
   "cell_type": "markdown",
   "metadata": {},
   "source": [
    "## 6. Modelo KNN\n",
    "Com a intenção de melhorar a acurácia do modelo anterior, o algoritmo KNN é analisado, entretanto para isso é feita primeira a busca de um ótimo valor de \"k\" vizinhos mais próximos.\n",
    "Para não se gastar muito custo computacional neste estudo, 20 valores de k (1 até 20) são computados e o gráfico com sua acurácia é plotado."
   ]
  },
  {
   "cell_type": "code",
   "execution_count": 17,
   "metadata": {},
   "outputs": [],
   "source": [
    "best_k = []\n",
    "for k in range(1,21):\n",
    "    knn = KNeighborsClassifier(n_neighbors=k)\n",
    "    knn.fit(x_train, y_train)\n",
    "\n",
    "    predictions = knn.predict(x_test)\n",
    "    accuracy = metrics.accuracy_score(y_test, predictions)\n",
    "    best_k.append(round(accuracy,4))"
   ]
  },
  {
   "cell_type": "code",
   "execution_count": 18,
   "metadata": {},
   "outputs": [
    {
     "data": {
      "image/png": "[encoded data removed]",
      "text/plain": [
       "<Figure size 432x288 with 1 Axes>"
      ]
     },
     "metadata": {
      "needs_background": "light"
     },
     "output_type": "display_data"
    }
   ],
   "source": [
    "plt.plot(range(1,21),best_k,color = 'blue',linestyle='dashed', \n",
    "         marker='o',markerfacecolor='red', markersize=10)\n",
    "plt.title('Precisão X Valor do K no algoritmo KNN')\n",
    "plt.xlabel('Valor de K')\n",
    "plt.ylabel('Precisão')\n",
    "plt.show()"
   ]
  },
  {
   "cell_type": "markdown",
   "metadata": {},
   "source": [
    "Pelo gráfico anterior, pode-se notar a tendência de queda ao longo dos valores explorados, alem de uma estabilização para valores maiores do que 20.\n",
    "Com isso, aconselha-se usar o melhor valor encontrado."
   ]
  },
  {
   "cell_type": "code",
   "execution_count": 19,
   "metadata": {},
   "outputs": [
    {
     "name": "stdout",
     "output_type": "stream",
     "text": [
      "A precisão do modelo KNN ficou em 0.9003 com k=2\n"
     ]
    }
   ],
   "source": [
    "print(\"A precisão do modelo KNN ficou em {a} com k={b}\".format(\n",
    "    a=max(best_k),\n",
    "    b=best_k.index(max(best_k))+1\n",
    "    ))"
   ]
  },
  {
   "cell_type": "markdown",
   "metadata": {},
   "source": [
    "## 7. Análise dos dados\n",
    "Após a elaboração do modelo preditivo anterior, vamos analisar quais os principais fatores para haver \"no show\".\n",
    "\n",
    "Para isso usaremos um terceiro algoritmo que possui um método embutido de seleção de atributos."
   ]
  },
  {
   "cell_type": "code",
   "execution_count": null,
   "metadata": {},
   "outputs": [],
   "source": [
    "reg = LassoCV()\n",
    "reg.fit(x_train, y_train)\n",
    "coef = pd.Series(reg.coef_, index = x_train.columns)\n",
    "\n",
    "print(\"A seleção de atributos foi de {a}, eliminando as outras {b}\".format(\n",
    "    a=sum(coef != 0),b=sum(coef == 0)))"
   ]
  },
  {
   "cell_type": "markdown",
   "metadata": {},
   "source": [
    "Vamos analisar como seria o desempenho deste algoritmo na base de teste"
   ]
  },
  {
   "cell_type": "code",
   "execution_count": null,
   "metadata": {},
   "outputs": [],
   "source": [
    "y_p = reg.predict(x_test).astype(np.int)\n",
    "accuracy = metrics.accuracy_score(y_test, predictions)\n",
    "print(\"O desempenho deste algoritmo foi de {a}\".format(a=accuracy))"
   ]
  },
  {
   "cell_type": "markdown",
   "metadata": {},
   "source": [
    "O que mostra que o algoritmo selecionado ainda não é melhor do que o do KNN escolhido anteriormente.\n",
    "\n",
    "Assim, vamos verificar se o algoritmo KNN ainda apresenta desempenho suficiente com apenas os 4 atributos selecionados."
   ]
  },
  {
   "cell_type": "code",
   "execution_count": null,
   "metadata": {},
   "outputs": [],
   "source": [
    "x_train_fselected = x_train[coef[coef!=0].index]\n",
    "x_test_fselected = x_test[coef[coef!=0].index]"
   ]
  },
  {
   "cell_type": "code",
   "execution_count": null,
   "metadata": {
    "scrolled": true
   },
   "outputs": [],
   "source": [
    "knn = KNeighborsClassifier(n_neighbors=2)\n",
    "knn.fit(x_train_fselected, y_train)\n",
    "\n",
    "predictions = knn.predict(x_test_fselected)\n",
    "accuracy = metrics.accuracy_score(y_test, predictions)\n",
    "print(\"O desempenho do algoritmo do KNN com apenas os 4\\\n",
    " atributos é de: {a}\".format(a=accuracy))"
   ]
  },
  {
   "cell_type": "markdown",
   "metadata": {},
   "source": [
    "O que ainda é um bom valor para modelos preditivos, ou seja estes 4 atributos conseguem prever razoavelmente bem a probabilidade de no show."
   ]
  },
  {
   "cell_type": "code",
   "execution_count": null,
   "metadata": {},
   "outputs": [],
   "source": [
    "important_att = coef[coef!=0].index.to_list()\n",
    "print(\"A análise anterior mostra que os atributos mais\\\n",
    " importantes são:\\n{}\".format(important_att))"
   ]
  },
  {
   "cell_type": "markdown",
   "metadata": {},
   "source": [
    "Agora vamos analisar estatísticamente quais são as variáveis mais críticas destes atributos."
   ]
  },
  {
   "cell_type": "code",
   "execution_count": null,
   "metadata": {},
   "outputs": [],
   "source": [
    "def critical_variables(df, sigma_n=1):\n",
    "    '''\n",
    "    This function returns the variables with\n",
    "    total appointments and no show issues\n",
    "    above mean and sigma_n standard deviation\n",
    "    '''\n",
    "    # Calculating totals of appointments\n",
    "    df_totals = df.groupby(df.columns[0]).size().to_frame()\n",
    "    df_totals.reset_index(drop=False, inplace=True)\n",
    "    df_totals.rename({0:'Consultas Totais'}, axis=1, inplace=True)\n",
    "    \n",
    "    # Calculating totals of no show events\n",
    "    df_noshow = df[df['No Show']==1]\n",
    "    df_noshow = df_noshow.groupby(df.columns[0]).size().to_frame()\n",
    "    df_noshow.reset_index(drop=False, inplace=True)\n",
    "    df_noshow.rename({0:'Consultas No Show'}, axis=1, inplace=True)\n",
    "\n",
    "    df_output = pd.merge(df_totals, df_noshow, on=[df.columns[0]],\n",
    "                         how='inner')\n",
    "    \n",
    "    mean_app = df_output['Consultas Totais'].mean()\n",
    "    std_app = df_output['Consultas Totais'].std()\n",
    "    mean_noshow = df_output['Consultas No Show'].mean()\n",
    "    std_noshow = df_output['Consultas No Show'].std()\n",
    "    \n",
    "    df_output = df_output[\n",
    "        df_output['Consultas Totais'] > mean_app + sigma_n*std_app\n",
    "        ]\n",
    "    df_output = df_output[\n",
    "        df_output['Consultas No Show'] > mean_noshow + sigma_n*std_noshow\n",
    "        ]\n",
    "    return df_output"
   ]
  },
  {
   "cell_type": "code",
   "execution_count": null,
   "metadata": {},
   "outputs": [],
   "source": [
    "neighborhood = data[['Bairro', 'No Show']]\n",
    "exam_cod = data[['Codigo exame', 'No Show']]\n",
    "insurance_cod = data[['Cod convenio', 'No Show']]\n",
    "income = data[['Renda Provavel', 'No Show']]"
   ]
  },
  {
   "cell_type": "markdown",
   "metadata": {},
   "source": [
    "Os bairros mais críticos a serem trabalhados e que estão a 6 desvios padrão da média são:"
   ]
  },
  {
   "cell_type": "code",
   "execution_count": null,
   "metadata": {},
   "outputs": [],
   "source": [
    "critical_variables(neighborhood, sigma_n=6)"
   ]
  },
  {
   "cell_type": "markdown",
   "metadata": {},
   "source": [
    "Já os exames mais críticos que devem ser analisados com mais cuidado, pois estão a 1 desvio padrão da média:"
   ]
  },
  {
   "cell_type": "code",
   "execution_count": null,
   "metadata": {},
   "outputs": [],
   "source": [
    "critical_variables(exam_cod, sigma_n=1)"
   ]
  },
  {
   "cell_type": "markdown",
   "metadata": {},
   "source": [
    "Os convênios médicos mais críticos que também estão a uma distância de um desvio padrão da média são:"
   ]
  },
  {
   "cell_type": "code",
   "execution_count": null,
   "metadata": {},
   "outputs": [],
   "source": [
    "critical_variables(insurance_cod, sigma_n=1)"
   ]
  },
  {
   "cell_type": "markdown",
   "metadata": {},
   "source": [
    "Por último, a renda salarial pode ser dividias em 1000 faixas salariais para melhorar a visualização"
   ]
  },
  {
   "cell_type": "code",
   "execution_count": null,
   "metadata": {},
   "outputs": [],
   "source": [
    "amplitude = (\n",
    "    income[['Renda Provavel']].max() -\n",
    "    income[['Renda Provavel']].min()\n",
    "    )/1000\n",
    "ranges = np.arange(0, int(income[['Renda Provavel']].max()), int(amplitude))\n",
    "income_ranges = income.groupby(pd.cut(income[\"Renda Provavel\"], ranges)).agg(\n",
    "    No_Show=('No Show', 'sum'),\n",
    "    Totais=('No Show', 'count'),\n",
    "    ).reset_index()\n",
    "\n",
    "income_ranges['Provavel No Show'] = income_ranges['No_Show'] / \\\n",
    "                                    income_ranges['Totais']\n",
    "income_ranges['Provavel No Show'] = income_ranges['Provavel No Show'].fillna(0)\n",
    "income_ranges = income_ranges[income_ranges['Provavel No Show']<.4]"
   ]
  },
  {
   "cell_type": "markdown",
   "metadata": {},
   "source": [
    "Como pode ser visto anteriormente, há uma provável tendência de no show quanto menor for a renda do paciente. "
   ]
  },
  {
   "cell_type": "code",
   "execution_count": null,
   "metadata": {
    "scrolled": true
   },
   "outputs": [],
   "source": [
    "#income_ranges[['Renda Provavel']]\n",
    "graph = income_ranges[['Provavel No Show', 'Renda Provavel']].plot(\n",
    "    title='Renda Salarial X Quantidade de No Show',\n",
    "    legend=None)\n",
    "plt.xlabel('Faixa salarial')\n",
    "plt.ylabel('Quantidade de no show')\n",
    "axes = plt.gca()\n",
    "axes.set_ylim([-0.1,.4])\n",
    "plt.show()"
   ]
  },
  {
   "cell_type": "markdown",
   "metadata": {},
   "source": [
    "Com o gráfico anterior, pode-se inferir que quanto menor a renda, maior tende a ser a chance de haver no show."
   ]
  },
  {
   "cell_type": "markdown",
   "metadata": {},
   "source": [
    "## 8. Conclusões finais"
   ]
  },
  {
   "cell_type": "markdown",
   "metadata": {},
   "source": [
    "Um modelo preditivo utilizando algoritmo KNN foi desenvolvido com sucesso e possui acurácia de pouco mais de 90%, o que deve ser satisfatório para o propósito.\n",
    "\n",
    "Este algoritmo pode ser implementado em um sistema backend ou um microserviço conectado com o sistema do laboratório através de uma API, pois desta forma assim que as consultas forem marcadas medidas podem ser tomadas para evitar o não comparecimento do paciente.\n",
    "\n",
    "Quanto a essas medidas, os fatores principais que influenciam no \"No Show\" foram analisados, sendo eles bairro, tipo de exame, código de convênio e renda salarial provável.\n",
    "\n",
    "Para todos eles foram levantados quais bairros, exames e convênios são mais críticos e devem ser trabalhados um a um.\n",
    "Vale lembrar que os bairros mais críticos estão a 6 desvios padrão de distância da média, ou seja, há alguns bairros com maior chance de não comparecimento.\n",
    "Além disso, percebeu-se que quanto menor a provável renda, maior a tendência do paciente não comparecer à consulta."
   ]
  }
 ],
 "metadata": {
  "kernelspec": {
   "display_name": "Python 3",
   "language": "python",
   "name": "python3"
  },
  "language_info": {
   "codemirror_mode": {
    "name": "ipython",
    "version": 3
   },
   "file_extension": ".py",
   "mimetype": "text/x-python",
   "name": "python",
   "nbconvert_exporter": "python",
   "pygments_lexer": "ipython3",
   "version": "3.8.3"
  }
 },
 "nbformat": 4,
 "nbformat_minor": 4
}
